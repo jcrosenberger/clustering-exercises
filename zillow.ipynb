{
 "cells": [
  {
   "cell_type": "code",
   "execution_count": null,
   "id": "83609a49-7b83-4463-89d7-402031df8bba",
   "metadata": {},
   "outputs": [],
   "source": [
    "# my modules\n",
    "import src.wrangle as wr\n",
    "import src.evaluate as ev \n",
    "import src.put_it_together as pit\n",
    "\n"
   ]
  }
 ],
 "metadata": {
  "kernelspec": {
   "display_name": "Python 3 (ipykernel)",
   "language": "python",
   "name": "python3"
  },
  "language_info": {
   "codemirror_mode": {
    "name": "ipython",
    "version": 3
   },
   "file_extension": ".py",
   "mimetype": "text/x-python",
   "name": "python",
   "nbconvert_exporter": "python",
   "pygments_lexer": "ipython3",
   "version": "3.9.13"
  }
 },
 "nbformat": 4,
 "nbformat_minor": 5
}
