{
 "cells": [
  {
   "cell_type": "code",
   "execution_count": 1,
   "id": "3a578233-e85f-4ee0-b718-b6f60e22de35",
   "metadata": {},
   "outputs": [],
   "source": [
    "# ignore warnings\n",
    "import warnings\n",
    "warnings.filterwarnings(\"ignore\")\n",
    "\n",
    "# Wrangling\n",
    "import pandas as pd\n",
    "import numpy as np\n",
    "from sklearn.model_selection import train_test_split\n",
    "\n",
    "# Statistical Tests\n",
    "import scipy.stats as stats\n",
    "\n",
    "# Visualizing\n",
    "import matplotlib.pyplot as plt\n",
    "from matplotlib import cm\n",
    "import seaborn as sns\n",
    "from sklearn.model_selection import learning_curve\n",
    "\n",
    "\n",
    "# My personal module to acquire needed dataframe\n",
    "import src.acquire as ac\n",
    "\n",
    "\n",
    "# displays dataframe numbers in a more human readable format\n",
    "pd.options.display.float_format = '{:20,.2f}'.format\n",
    "\n",
    "\n",
    "# module for fixing imported modules\n",
    "from importlib import reload"
   ]
  },
  {
   "cell_type": "code",
   "execution_count": 10,
   "id": "433a5bb6-6f2b-4408-a2cd-2037dd22806f",
   "metadata": {},
   "outputs": [
    {
     "data": {
      "text/plain": [
       "<module 'src.acquire' from '/Users/CryanRedrose/codeup-data-science/CodeUp/clustering-exercises/src/acquire.py'>"
      ]
     },
     "execution_count": 10,
     "metadata": {},
     "output_type": "execute_result"
    }
   ],
   "source": [
    "reload(ac)"
   ]
  },
  {
   "cell_type": "code",
   "execution_count": 13,
   "id": "10ad6a91-062e-411e-b8b3-e864b553b28a",
   "metadata": {},
   "outputs": [],
   "source": [
    "df = ac.big_query()"
   ]
  },
  {
   "cell_type": "code",
   "execution_count": 15,
   "id": "418fd973-999f-4205-abf3-af1114ca63df",
   "metadata": {},
   "outputs": [
    {
     "name": "stdout",
     "output_type": "stream",
     "text": [
      "<class 'pandas.core.frame.DataFrame'>\n",
      "RangeIndex: 52319 entries, 0 to 52318\n",
      "Data columns (total 68 columns):\n",
      " #   Column                        Non-Null Count  Dtype  \n",
      "---  ------                        --------------  -----  \n",
      " 0   id                            52319 non-null  int64  \n",
      " 1   parcelid                      52319 non-null  int64  \n",
      " 2   airconditioningtypeid         13615 non-null  float64\n",
      " 3   architecturalstyletypeid      70 non-null     float64\n",
      " 4   basementsqft                  47 non-null     float64\n",
      " 5   bathroomcnt                   52319 non-null  float64\n",
      " 6   bedroomcnt                    52319 non-null  float64\n",
      " 7   buildingclasstypeid           0 non-null      object \n",
      " 8   buildingqualitytypeid         33654 non-null  float64\n",
      " 9   calculatedbathnbr             52184 non-null  float64\n",
      " 10  decktypeid                    389 non-null    float64\n",
      " 11  finishedfloor1squarefeet      4371 non-null   float64\n",
      " 12  calculatedfinishedsquarefeet  52238 non-null  float64\n",
      " 13  finishedsquarefeet12          52073 non-null  float64\n",
      " 14  finishedsquarefeet13          0 non-null      object \n",
      " 15  finishedsquarefeet15          0 non-null      object \n",
      " 16  finishedsquarefeet50          4371 non-null   float64\n",
      " 17  finishedsquarefeet6           165 non-null    float64\n",
      " 18  fips                          52319 non-null  float64\n",
      " 19  fireplacecnt                  7233 non-null   float64\n",
      " 20  fullbathcnt                   52184 non-null  float64\n",
      " 21  garagecarcnt                  17984 non-null  float64\n",
      " 22  garagetotalsqft               17984 non-null  float64\n",
      " 23  hashottuborspa                1514 non-null   float64\n",
      " 24  heatingorsystemtypeid         33849 non-null  float64\n",
      " 25  latitude                      52319 non-null  float64\n",
      " 26  longitude                     52319 non-null  float64\n",
      " 27  lotsizesquarefeet             51953 non-null  float64\n",
      " 28  poolcnt                       11077 non-null  float64\n",
      " 29  poolsizesum                   865 non-null    float64\n",
      " 30  pooltypeid10                  443 non-null    float64\n",
      " 31  pooltypeid2                   1071 non-null   float64\n",
      " 32  pooltypeid7                   9990 non-null   float64\n",
      " 33  propertycountylandusecode     52319 non-null  object \n",
      " 34  propertylandusetypeid         52319 non-null  float64\n",
      " 35  propertyzoningdesc            33761 non-null  object \n",
      " 36  rawcensustractandblock        52319 non-null  float64\n",
      " 37  regionidcity                  51283 non-null  float64\n",
      " 38  regionidcounty                52319 non-null  float64\n",
      " 39  regionidneighborhood          18981 non-null  float64\n",
      " 40  regionidzip                   52293 non-null  float64\n",
      " 41  roomcnt                       52319 non-null  float64\n",
      " 42  storytypeid                   47 non-null     float64\n",
      " 43  threequarterbathnbr           6717 non-null   float64\n",
      " 44  typeconstructiontypeid        76 non-null     float64\n",
      " 45  unitcnt                       33761 non-null  float64\n",
      " 46  yardbuildingsqft17            1935 non-null   float64\n",
      " 47  yardbuildingsqft26            63 non-null     float64\n",
      " 48  yearbuilt                     52205 non-null  float64\n",
      " 49  numberofstories               14532 non-null  float64\n",
      " 50  fireplaceflag                 81 non-null     float64\n",
      " 51  structuretaxvaluedollarcnt    52237 non-null  float64\n",
      " 52  taxvaluedollarcnt             52318 non-null  float64\n",
      " 53  assessmentyear                52319 non-null  float64\n",
      " 54  landtaxvaluedollarcnt         52318 non-null  float64\n",
      " 55  taxamount                     52315 non-null  float64\n",
      " 56  taxdelinquencyflag            2068 non-null   object \n",
      " 57  taxdelinquencyyear            2068 non-null   float64\n",
      " 58  censustractandblock           52198 non-null  float64\n",
      " 59  logerror                      52319 non-null  float64\n",
      " 60  transactiondate               52319 non-null  object \n",
      " 61  airconditioningdesc           13615 non-null  object \n",
      " 62  architecturalstyledesc        70 non-null     object \n",
      " 63  buildingclassdesc             0 non-null      object \n",
      " 64  heatingorsystemdesc           33849 non-null  object \n",
      " 65  propertylandusedesc           52319 non-null  object \n",
      " 66  storydesc                     47 non-null     object \n",
      " 67  typeconstructiondesc          76 non-null     object \n",
      "dtypes: float64(52), int64(2), object(14)\n",
      "memory usage: 27.1+ MB\n"
     ]
    }
   ],
   "source": [
    "df.info()"
   ]
  },
  {
   "cell_type": "code",
   "execution_count": null,
   "id": "d23cb8b0-3bb4-42bb-8616-ceb783c7fb87",
   "metadata": {},
   "outputs": [],
   "source": []
  }
 ],
 "metadata": {
  "kernelspec": {
   "display_name": "Python 3 (ipykernel)",
   "language": "python",
   "name": "python3"
  },
  "language_info": {
   "codemirror_mode": {
    "name": "ipython",
    "version": 3
   },
   "file_extension": ".py",
   "mimetype": "text/x-python",
   "name": "python",
   "nbconvert_exporter": "python",
   "pygments_lexer": "ipython3",
   "version": "3.9.13"
  }
 },
 "nbformat": 4,
 "nbformat_minor": 5
}
